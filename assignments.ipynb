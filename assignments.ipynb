{
 "cells": [
  {
   "cell_type": "markdown",
   "id": "710cfef5",
   "metadata": {},
   "source": [
    "# LOGADARSHANA"
   ]
  },
  {
   "cell_type": "markdown",
   "id": "2152bf11",
   "metadata": {},
   "source": [
    "# 21BEC0221"
   ]
  },
  {
   "cell_type": "markdown",
   "id": "0b36db8a",
   "metadata": {},
   "source": []
  },
  {
   "cell_type": "markdown",
   "id": "1c94691a",
   "metadata": {},
   "source": [
    "# ASSIGNMENT 1"
   ]
  },
  {
   "cell_type": "code",
   "execution_count": 2,
   "id": "7e99561c",
   "metadata": {},
   "outputs": [
    {
     "name": "stdout",
     "output_type": "stream",
     "text": [
      "enter a number: 7\n",
      "factorial of  7  is  5040\n"
     ]
    }
   ],
   "source": [
    " #Write a program to find a factorial of a number\n",
    "num = int(input(\"enter a number: \"))\n",
    " \n",
    "fac = 1\n",
    "i = 1\n",
    " \n",
    "while i <= num:\n",
    "    fac = fac* i\n",
    "    i = i + 1\n",
    " \n",
    "print(\"factorial of \", num, \" is \", fac)"
   ]
  },
  {
   "cell_type": "code",
   "execution_count": 3,
   "id": "f1217620",
   "metadata": {},
   "outputs": [
    {
     "name": "stdout",
     "output_type": "stream",
     "text": [
      "enter the coefficient of x^3:5\n",
      "enter the coefficient of x^2:4\n",
      "enter the coefficient of x:3\n",
      "enter the constant:2\n",
      "enter the value of k:6\n",
      "enter the value of x:7\n",
      "f(x)= 1538\n"
     ]
    }
   ],
   "source": [
    "#A function f is defined as follows:\n",
    "#  f(x) = ax3-bx2+cx-d,      if x>k\n",
    "#       = 0,                 if x=k\n",
    "#       = -ax3+bx2-cx+d,     if x<k\n",
    "#write a program that reads a,b,c,d,k and x and print the value of f(x)\n",
    "\n",
    "#f(x)=ax^3-bx^2+cx-d\n",
    "a=int(input(\"enter the coefficient of x^3:\"))\n",
    "b=int(input(\"enter the coefficient of x^2:\"))\n",
    "c=int(input(\"enter the coefficient of x:\"))\n",
    "d=int(input(\"enter the constant:\"))\n",
    "\n",
    "k=int(input(\"enter the value of k:\"))\n",
    "x=int(input(\"enter the value of x:\"))\n",
    "\n",
    "if x>k:\n",
    "    print(\"f(x)=\",a*x**3-b*x**2+c*x-d)\n",
    "elif x==k:\n",
    "    print(\"f(x)=\",0)\n",
    "elif x<k:\n",
    "    print(\"f(x)=\",-a*x**3+b*x**2-c*x+d)"
   ]
  },
  {
   "cell_type": "markdown",
   "id": "991429c6",
   "metadata": {},
   "source": []
  },
  {
   "cell_type": "markdown",
   "id": "696aebef",
   "metadata": {},
   "source": [
    "# ASSIGNMENT 2"
   ]
  },
  {
   "cell_type": "code",
   "execution_count": 1,
   "id": "82f2b18e",
   "metadata": {},
   "outputs": [
    {
     "name": "stdout",
     "output_type": "stream",
     "text": [
      "Enter n:7\n",
      "Enter index:-1\n",
      "Enter index:4\n",
      "Enter index:5\n",
      "Enter index:-6\n",
      "Enter index:-8\n",
      "Enter index:-9\n",
      "Enter index:9\n",
      "[-1, 4, 5, -6, -8, -9, 9]\n",
      "[-1, 4, 5, -6, -8, -9, 9]\n"
     ]
    }
   ],
   "source": [
    "'''\n",
    "Write a program that asks the user to enter a list of numbers. Replace the first \n",
    "three negative numbers by 0, leave the rest of the list alone, and print the new list. If \n",
    "there are less than three negatives, then all the negatives will become 0, and if there \n",
    "are no negatives, then the list doesn’t change.\n",
    "'''\n",
    "\n",
    "L=[]\n",
    "n=int(input(\"Enter n:\"))\n",
    "i=0\n",
    "while i<n:\n",
    "    L.append(int(input(\"Enter index:\")))\n",
    "    i+=1\n",
    "print(L)\n",
    "L1=L\n",
    "a=len(L1)\n",
    "b=len(L)\n",
    "a=b\n",
    "i=0\n",
    "c=0\n",
    "while i<a:\n",
    "    \n",
    "    if c<3:\n",
    "        if L[i]<0:\n",
    "            c+=1\n",
    "    i+=1\n",
    "print(L1)\n",
    "            "
   ]
  },
  {
   "cell_type": "code",
   "execution_count": 2,
   "id": "2f7ad73f",
   "metadata": {},
   "outputs": [
    {
     "name": "stdout",
     "output_type": "stream",
     "text": [
      "Enter the month number: 1\n",
      "Jan\n"
     ]
    }
   ],
   "source": [
    "'''\n",
    "Write a program that asks the user for a month number and then print out the \n",
    "month name associated with the number (where 1 is January, 2 is February, etc.). Do \n",
    "this in 2 ways:\n",
    "a) using 12 if statements\n",
    "b) using lists\n",
    "'''\n",
    "# a)\n",
    "def print_month_name(x):\n",
    "    if (x==1):\n",
    "         print (\"Jan\")\n",
    "    if (x==2):\n",
    "         print(\"Feb\")\n",
    "    if (x==3):\n",
    "         print(\"March\")\n",
    "    if (x==4):\n",
    "         print(\"April\")\n",
    "    if (x==5):\n",
    "         print(\"May\")\n",
    "    if (x==6):\n",
    "         print(\"June\")\n",
    "    if (x==7):\n",
    "         print(\"July\")\n",
    "    if (x==8):\n",
    "         print(\"August\")\n",
    "    if(x==9):\n",
    "         print(\"September\")\n",
    "    if(x==10):\n",
    "        print(\"October\")\n",
    "    if(x==11):\n",
    "         print(\"November\")\n",
    "    if(x==12):\n",
    "         print(\"December\")\n",
    "    if(x<1 or x>12):\n",
    "         print(\"Invalid input\")\n",
    "month = int(input(\"Enter the month number: \"))\n",
    "print_month_name(month)"
   ]
  },
  {
   "cell_type": "code",
   "execution_count": 3,
   "id": "d2af4e21",
   "metadata": {},
   "outputs": [
    {
     "name": "stdout",
     "output_type": "stream",
     "text": [
      "Enter the Month Number:5\n",
      "May\n"
     ]
    }
   ],
   "source": [
    "# b)\n",
    "try:\n",
    "    l = [\"January\", \"February\", \"March\", \"April\", \"May\", \"June\", \"July\", \"August\", \"September\", \"October\", \"November\", \"December\"]\n",
    "    ch = int(input(\"Enter the Month Number:\"))\n",
    "    print(l[ch-1])\n",
    "except Exception as e:\n",
    "    print(\"Invalid Month\")"
   ]
  },
  {
   "cell_type": "code",
   "execution_count": 4,
   "id": "d70c91db",
   "metadata": {},
   "outputs": [
    {
     "name": "stdout",
     "output_type": "stream",
     "text": [
      "Enter date in the format (MM/DD/YYYY) : 06/25/2003\n",
      "day =  25\n",
      "month =  06\n",
      "year =  2003\n"
     ]
    }
   ],
   "source": [
    "'''\n",
    "Write a program that asks the user to enter a date in a form month/day/year and \n",
    "then uses the split() method to print out the month, day and year all on separate \n",
    "lines.\n",
    "'''\n",
    "date = input('Enter date in the format (MM/DD/YYYY) : ')\n",
    "mm, dd, yyyy = date.strip().split('/')\n",
    "print('day = ',dd)\n",
    "print('month = ',mm)\n",
    "print('year = ',yyyy)"
   ]
  },
  {
   "cell_type": "markdown",
   "id": "daa5c5e1",
   "metadata": {},
   "source": []
  },
  {
   "cell_type": "markdown",
   "id": "30816b70",
   "metadata": {},
   "source": []
  },
  {
   "cell_type": "markdown",
   "id": "a799bb5b",
   "metadata": {},
   "source": [
    "# ASSIGNMENT 3 (MAT)"
   ]
  },
  {
   "cell_type": "code",
   "execution_count": 5,
   "id": "37008ad9",
   "metadata": {},
   "outputs": [
    {
     "name": "stdout",
     "output_type": "stream",
     "text": [
      "56\n",
      "28.0\n",
      "14.0\n",
      "7.0\n"
     ]
    }
   ],
   "source": [
    "'''\n",
    "Write a program that reads an integer from the user. If the value entered by the\n",
    "user is less than 2 then your program should display an appropriate error \n",
    "message. Otherwise your program should display the prime numbers that can be \n",
    "multiplied together to compute n, with one factor appearing on each line.\n",
    "Test Case: 56,100, 200\n",
    "'''\n",
    "#56\n",
    "import math\n",
    " \n",
    "def primeFactors(n):\n",
    "     \n",
    "    while n % 2 == 0:\n",
    "        print (n);\n",
    "        n = n / 2\n",
    "         \n",
    "    for i in range(3, int(math.sqrt(n))+1, 2):\n",
    "         \n",
    "    \n",
    "        while n % i == 0:\n",
    "            print (i),\n",
    "            n = n / i\n",
    "             \n",
    "    if n > 2:\n",
    "        print (n)\n",
    "        \n",
    "n = 56\n",
    "primeFactors(n)"
   ]
  },
  {
   "cell_type": "code",
   "execution_count": 6,
   "id": "fa973702",
   "metadata": {},
   "outputs": [
    {
     "name": "stdout",
     "output_type": "stream",
     "text": [
      "100\n",
      "50.0\n",
      "5\n",
      "5\n"
     ]
    }
   ],
   "source": [
    "#100\n",
    "import math\n",
    " \n",
    "def primeFactors(n):\n",
    "     \n",
    "    while n % 2 == 0:\n",
    "        print (n);\n",
    "        n = n / 2\n",
    "         \n",
    "    for i in range(3, int(math.sqrt(n))+1, 2):\n",
    "         \n",
    "    \n",
    "        while n % i == 0:\n",
    "            print (i),\n",
    "            n = n / i\n",
    "             \n",
    "    if n > 2:\n",
    "        print (n)\n",
    "        \n",
    "n = 100\n",
    "primeFactors(n)"
   ]
  },
  {
   "cell_type": "code",
   "execution_count": 7,
   "id": "3eac3693",
   "metadata": {},
   "outputs": [
    {
     "name": "stdout",
     "output_type": "stream",
     "text": [
      "200\n",
      "100.0\n",
      "50.0\n",
      "5\n",
      "5\n"
     ]
    }
   ],
   "source": [
    "#200\n",
    "import math\n",
    " \n",
    "def primeFactors(n):\n",
    "     \n",
    "    while n % 2 == 0:\n",
    "        print (n);\n",
    "        n = n / 2\n",
    "         \n",
    "    for i in range(3, int(math.sqrt(n))+1, 2):\n",
    "         \n",
    "    \n",
    "        while n % i == 0:\n",
    "            print (i),\n",
    "            n = n / i\n",
    "             \n",
    "    if n > 2:\n",
    "        print (n)\n",
    "        \n",
    "n = 200\n",
    "primeFactors(n)"
   ]
  },
  {
   "cell_type": "code",
   "execution_count": 8,
   "id": "712bae4b",
   "metadata": {},
   "outputs": [
    {
     "name": "stdout",
     "output_type": "stream",
     "text": [
      "Average transaction= 14.0\n",
      "The total credited amt= 641\n",
      "Total withdrawal amt= -571\n",
      "Credit more than average amt= 213\n",
      "Credit more than average amt= 261\n",
      "Credit more than average amt= 167\n"
     ]
    }
   ],
   "source": [
    "'''\n",
    "Mr. Marut has used SBI credit (added amount denoted as +xx) and \n",
    "debited (withdrawal amount denoted -yy) amount in passbook of December \n",
    "2020. In month last day, he wants to know the total credit and debited amount, \n",
    "average of total transaction, also display credit above average amount.\n",
    "Test case: 213 -415 -156 261 167\n",
    "'''\n",
    "\n",
    "amt=[213,-415,-156,261,167]\n",
    "withdrawal=0\n",
    "credit=0\n",
    "avg=0\n",
    "for i in amt:\n",
    "    if i<0:\n",
    "        withdrawal=withdrawal+i\n",
    "    else:\n",
    "        credit=credit+i\n",
    "    avg=avg+i\n",
    "    \n",
    "total_avg=avg/5\n",
    "print(\"Average transaction=\",total_avg)\n",
    "print(\"The total credited amt=\",credit)\n",
    "print(\"Total withdrawal amt=\",withdrawal)\n",
    "\n",
    "for i in amt:\n",
    "    if i>total_avg:\n",
    "        print(\"Credit more than average amt=\",i)"
   ]
  },
  {
   "cell_type": "code",
   "execution_count": 9,
   "id": "4ab5bde1",
   "metadata": {},
   "outputs": [
    {
     "name": "stdout",
     "output_type": "stream",
     "text": [
      "[105, 210]\n",
      "[15, 30, 45, 60, 75, 90, 120, 135, 150, 165, 180, 195, 225, 240, 255, 270, 285, 300]\n",
      "[1, 2, 4, 8, 11, 13, 16, 17, 19, 22, 23, 26, 29, 31, 32, 34, 37, 38, 41, 43, 44, 46, 47, 52, 53, 58, 59, 61, 62, 64, 67, 68, 71, 73, 74, 76, 79, 82, 83, 86, 88, 89, 92, 94, 97, 101, 103, 104, 106, 107, 109, 113, 116, 118, 121, 122, 124, 127, 128, 131, 134, 136, 137, 139, 142, 143, 146, 148, 149, 151, 152, 157, 158, 163, 164, 166, 167, 169, 172, 173, 176, 178, 179, 181, 184, 187, 188, 191, 193, 194, 197, 199, 202, 206, 208, 209, 211, 212, 214, 218, 221, 223, 226, 227, 229, 232, 233, 236, 239, 241, 242, 244, 247, 248, 251, 253, 254, 256, 257, 262, 263, 268, 269, 271, 272, 274, 277, 278, 281, 283, 284, 286, 289, 292, 293, 296, 298, 299]\n"
     ]
    }
   ],
   "source": [
    "'''\n",
    "Write a program that first produces three sets of numbers between 1 and 300, the \n",
    "first all those numbers that are dividable by 3, the second all those numbers that are \n",
    "dividable by 5, and the third all those numbers that are dividable by 7. It is easiest\n",
    "to do that with list comprehension, but it is not necessary. Now produce sets of all \n",
    "the\n",
    "numbers between 1 and 300 that (a) are dividable by 3, 5, and 7, (b) are dividable \n",
    "by 3 and 5, but not by 7, (c) that are not dividable by 3, 5, or 7. The shortest \n",
    "solution has only one line of code for each of the six sets\n",
    "'''\n",
    "L1=[]\n",
    "L2=[]\n",
    "L3=[]\n",
    "for i in range(1,301):\n",
    "    if i%3==0 and i%5==0 and i%7==0:\n",
    "        L1.append(i)\n",
    "    elif i%5==0 and i%3==0 and i%7!=0:\n",
    "        L2.append(i)\n",
    "    elif i%7!=0 and i%5!=0 and i%3!=0:\n",
    "        L3.append(i)\n",
    "        \n",
    "print(L1)\n",
    "print(L2)\n",
    "print(L3)"
   ]
  },
  {
   "cell_type": "markdown",
   "id": "32915927",
   "metadata": {},
   "source": []
  },
  {
   "cell_type": "markdown",
   "id": "93489414",
   "metadata": {},
   "source": [
    "# ASSIGNMENT 4"
   ]
  },
  {
   "cell_type": "code",
   "execution_count": 1,
   "id": "9980dba9",
   "metadata": {},
   "outputs": [
    {
     "name": "stdout",
     "output_type": "stream",
     "text": [
      "\n",
      "Original Number :  3.1415926\n",
      "Formatted Number with no decimal places : 3\n",
      "Original Number:  -12.9999\n",
      "Formatted Number with no decimal places : -13\n",
      "\n"
     ]
    }
   ],
   "source": [
    "#programming questions\n",
    "#Write a program to print floating numbers with no decimal places.\n",
    "x = 3.1415926\n",
    "y = -12.9999\n",
    "print (\"\\nOriginal Number : \", x)\n",
    "print(\"Formatted Number with no decimal places : \" + \"{:.0f}\".format (x));\n",
    "print (\"Original Number: \", y)\n",
    "print(\"Formatted Number with no decimal places : \" + \"{:.0f}\".format (y));\n",
    "print ()\n"
   ]
  },
  {
   "cell_type": "code",
   "execution_count": 2,
   "id": "07d39f51",
   "metadata": {},
   "outputs": [
    {
     "name": "stdout",
     "output_type": "stream",
     "text": [
      "Match\n",
      "Good\n",
      "None\n",
      "Number OK\n"
     ]
    }
   ],
   "source": [
    "#find the output\n",
    "import re\n",
    "if re.search(r\"P[ye][td]hon\",\"Python is a wonderful language\"):\n",
    "    print(\"Match\")\n",
    "if re.search(r\"Python\\.$\",\"I like Python.\"):\n",
    "    print(\"Good\")\n",
    "print(re.search(r\"Python\\.$\",\"I like Python as well as Java.\"))\n",
    "if re.search(\"[0-9]+\", \"PNo. : 25227568,Date:February 17, 2017\"):\n",
    "    print(\"Number OK\")"
   ]
  },
  {
   "cell_type": "code",
   "execution_count": 3,
   "id": "398306b4",
   "metadata": {},
   "outputs": [
    {
     "data": {
      "text/plain": [
       "\"%s %s %s % ('East','West','North','South')\""
      ]
     },
     "execution_count": 3,
     "metadata": {},
     "output_type": "execute_result"
    }
   ],
   "source": [
    "#find the error\n",
    "\"%s %s %s % ('East','West','North','South')\""
   ]
  },
  {
   "cell_type": "code",
   "execution_count": 2,
   "id": "d2347edf",
   "metadata": {},
   "outputs": [
    {
     "name": "stdout",
     "output_type": "stream",
     "text": [
      "Takes in a number n, returns the square of n\n"
     ]
    }
   ],
   "source": [
    "#docstrings\n",
    "def square(n):\n",
    "    '''Takes in a number n, returns the square of n'''\n",
    "    return n**2\n",
    "print(square.__doc__)\n"
   ]
  },
  {
   "cell_type": "code",
   "execution_count": 3,
   "id": "695843e5",
   "metadata": {},
   "outputs": [
    {
     "name": "stdout",
     "output_type": "stream",
     "text": [
      "Enter number10\n",
      "Sum of first  10 numbers is:  55\n",
      "Average of  10 numbers is:  5.5\n"
     ]
    }
   ],
   "source": [
    "#Write a function that accepts a number n as input and returns the average of numbers from 1 to n.\n",
    "n = int(input(\"Enter number\"))\n",
    "sum = 0\n",
    "# loop from 1 to n\n",
    "for num in range(1, n + 1, 1):\n",
    "    sum = sum + num\n",
    "print(\"Sum of first \", n, \"numbers is: \", sum)\n",
    "average = sum / n\n",
    "print(\"Average of \", n, \"numbers is: \", average)"
   ]
  },
  {
   "cell_type": "code",
   "execution_count": 8,
   "id": "7663c22b",
   "metadata": {},
   "outputs": [
    {
     "name": "stdout",
     "output_type": "stream",
     "text": [
      "1\n"
     ]
    }
   ],
   "source": [
    "#find the output\n",
    "double =lambda x:x*2\n",
    "sub=lambda x,y:x-y\n",
    "print(sub(double(5),9))"
   ]
  },
  {
   "cell_type": "code",
   "execution_count": 9,
   "id": "f709eff1",
   "metadata": {},
   "outputs": [
    {
     "ename": "SyntaxError",
     "evalue": "positional argument follows keyword argument (Temp/ipykernel_5248/34549403.py, line 5)",
     "output_type": "error",
     "traceback": [
      "\u001b[1;36m  File \u001b[1;32m\"C:\\Users\\JK\\AppData\\Local\\Temp/ipykernel_5248/34549403.py\"\u001b[1;36m, line \u001b[1;32m5\u001b[0m\n\u001b[1;33m    func(b=10, 20)\u001b[0m\n\u001b[1;37m               ^\u001b[0m\n\u001b[1;31mSyntaxError\u001b[0m\u001b[1;31m:\u001b[0m positional argument follows keyword argument\n"
     ]
    }
   ],
   "source": [
    "#find the error\n",
    "def func(a, b):\n",
    "    print(a)\n",
    "    print(b)\n",
    "func(b=10, 20)"
   ]
  },
  {
   "cell_type": "code",
   "execution_count": null,
   "id": "6db9dae1",
   "metadata": {},
   "outputs": [],
   "source": []
  }
 ],
 "metadata": {
  "kernelspec": {
   "display_name": "Python 3 (ipykernel)",
   "language": "python",
   "name": "python3"
  },
  "language_info": {
   "codemirror_mode": {
    "name": "ipython",
    "version": 3
   },
   "file_extension": ".py",
   "mimetype": "text/x-python",
   "name": "python",
   "nbconvert_exporter": "python",
   "pygments_lexer": "ipython3",
   "version": "3.8.12"
  }
 },
 "nbformat": 4,
 "nbformat_minor": 5
}

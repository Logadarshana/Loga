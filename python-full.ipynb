{
 "cells": [
  {
   "cell_type": "code",
   "execution_count": 3,
   "id": "6fa559c4",
   "metadata": {},
   "outputs": [
    {
     "name": "stdout",
     "output_type": "stream",
     "text": [
      "Total: 50\n"
     ]
    }
   ],
   "source": [
    "a=25\n",
    "b=25\n",
    "c=a+b\n",
    "print ('Total:',c)"
   ]
  },
  {
   "cell_type": "code",
   "execution_count": 23,
   "id": "5b06c629",
   "metadata": {},
   "outputs": [
    {
     "name": "stdout",
     "output_type": "stream",
     "text": [
      "Total:50\n"
     ]
    }
   ],
   "source": [
    "a=25\n",
    "b=25\n",
    "c=a+b\n",
    "print ('Total:'+str(c))"
   ]
  },
  {
   "cell_type": "code",
   "execution_count": 4,
   "id": "c52d2ac5",
   "metadata": {},
   "outputs": [
    {
     "name": "stdout",
     "output_type": "stream",
     "text": [
      "loga\n",
      "loga\n"
     ]
    }
   ],
   "source": [
    "name=input()\n",
    "print(name)"
   ]
  },
  {
   "cell_type": "code",
   "execution_count": 5,
   "id": "32775c49",
   "metadata": {},
   "outputs": [
    {
     "name": "stdout",
     "output_type": "stream",
     "text": [
      "loga\n",
      "<class 'str'>\n",
      "loga\n"
     ]
    }
   ],
   "source": [
    "name=input()\n",
    "print(type(name))\n",
    "print(name)"
   ]
  },
  {
   "cell_type": "code",
   "execution_count": 8,
   "id": "f09505ea",
   "metadata": {},
   "outputs": [
    {
     "name": "stdout",
     "output_type": "stream",
     "text": [
      "Enter the value of A: 5\n",
      "Enter the value of B: 6\n",
      "11\n",
      "<class 'int'>\n"
     ]
    }
   ],
   "source": [
    "a=int(input(\"Enter the value of A: \"))\n",
    "b=int(input(\"Enter the value of B: \"))\n",
    "c=a+b\n",
    "print(c)\n",
    "print(type(c))"
   ]
  },
  {
   "cell_type": "code",
   "execution_count": 10,
   "id": "0cbc7020",
   "metadata": {},
   "outputs": [
    {
     "name": "stdout",
     "output_type": "stream",
     "text": [
      "Enter the value of A: 5.5\n",
      "Enter the value of B: 6.5\n",
      "12.0\n",
      "<class 'float'>\n"
     ]
    }
   ],
   "source": [
    "a=float(input(\"Enter the value of A: \"))\n",
    "b=float(input(\"Enter the value of B: \"))\n",
    "c=a+b\n",
    "print(c)\n",
    "print(type(c))"
   ]
  },
  {
   "cell_type": "code",
   "execution_count": 15,
   "id": "897cc232",
   "metadata": {},
   "outputs": [
    {
     "name": "stdout",
     "output_type": "stream",
     "text": [
      "Enter 3 Names: loga k l\n",
      "Name 1 :  loga\n",
      "Name 2 :  k\n",
      "Name 3 :  l\n"
     ]
    }
   ],
   "source": [
    "name1,name2,name3=input(\"Enter 3 Names: \").split()\n",
    "print(\"Name 1 : \",name1)\n",
    "print(\"Name 2 : \",name2)\n",
    "print(\"Name 3 : \",name3)"
   ]
  },
  {
   "cell_type": "code",
   "execution_count": 16,
   "id": "d5586fff",
   "metadata": {},
   "outputs": [
    {
     "name": "stdout",
     "output_type": "stream",
     "text": [
      "Enter 3 Names: loga,kanda,krishna\n",
      "Name 1 :  loga\n",
      "Name 2 :  kanda\n",
      "Name 3 :  krishna\n"
     ]
    }
   ],
   "source": [
    "name1,name2,name3=input(\"Enter 3 Names: \").split(',')\n",
    "print(\"Name 1 : \",name1)\n",
    "print(\"Name 2 : \",name2)\n",
    "print(\"Name 3 : \",name3)"
   ]
  },
  {
   "cell_type": "code",
   "execution_count": 17,
   "id": "e0de40d6",
   "metadata": {},
   "outputs": [
    {
     "name": "stdout",
     "output_type": "stream",
     "text": [
      "<class 'list'>\n"
     ]
    }
   ],
   "source": [
    "para=[]\n",
    "print(type(para))"
   ]
  },
  {
   "cell_type": "code",
   "execution_count": 18,
   "id": "997622a4",
   "metadata": {},
   "outputs": [
    {
     "name": "stdout",
     "output_type": "stream",
     "text": [
      "25\n"
     ]
    }
   ],
   "source": [
    "para=[25,26,27]\n",
    "print(para[0])"
   ]
  },
  {
   "cell_type": "code",
   "execution_count": 19,
   "id": "4f075814",
   "metadata": {},
   "outputs": [
    {
     "name": "stdout",
     "output_type": "stream",
     "text": [
      "27\n"
     ]
    }
   ],
   "source": [
    "para=[25,26,27]\n",
    "print(para[2])"
   ]
  },
  {
   "cell_type": "code",
   "execution_count": 21,
   "id": "17becf58",
   "metadata": {},
   "outputs": [
    {
     "name": "stdout",
     "output_type": "stream",
     "text": [
      "25,26,27\n"
     ]
    }
   ],
   "source": [
    "para=[\"25\",\"26\",\"27\"]\n",
    "print(','.join(para))"
   ]
  },
  {
   "cell_type": "code",
   "execution_count": 22,
   "id": "da8833d0",
   "metadata": {},
   "outputs": [
    {
     "name": "stdout",
     "output_type": "stream",
     "text": [
      "10\n",
      "<class 'int'>\n",
      "10.0\n",
      "<class 'float'>\n"
     ]
    }
   ],
   "source": [
    "a=10\n",
    "print(a)\n",
    "print(type(a))\n",
    "b=10.0\n",
    "print(b)\n",
    "print(type(b))"
   ]
  },
  {
   "cell_type": "code",
   "execution_count": 39,
   "id": "90283c95",
   "metadata": {},
   "outputs": [
    {
     "name": "stdout",
     "output_type": "stream",
     "text": [
      "loga\n",
      "<class 'str'>\n"
     ]
    }
   ],
   "source": [
    "#String and string function\n",
    "\n",
    "s=\"loga\"\n",
    "print(s)\n",
    "print(type(s))"
   ]
  },
  {
   "cell_type": "code",
   "execution_count": 25,
   "id": "3ea250cc",
   "metadata": {},
   "outputs": [
    {
     "name": "stdout",
     "output_type": "stream",
     "text": [
      "loga\n",
      "<class 'str'>\n",
      "LOGA\n"
     ]
    }
   ],
   "source": [
    "s=\"loga\"\n",
    "print(s)\n",
    "print(type(s))\n",
    "print(s.upper())"
   ]
  },
  {
   "cell_type": "code",
   "execution_count": 36,
   "id": "62adc791",
   "metadata": {},
   "outputs": [
    {
     "name": "stdout",
     "output_type": "stream",
     "text": [
      "loga darshana\n"
     ]
    }
   ],
   "source": [
    "s=\"loga darshana\"\n",
    "print(s.lower())"
   ]
  },
  {
   "cell_type": "code",
   "execution_count": 37,
   "id": "0236e263",
   "metadata": {},
   "outputs": [
    {
     "name": "stdout",
     "output_type": "stream",
     "text": [
      "Loga darshana\n"
     ]
    }
   ],
   "source": [
    "s=\"loga darshana\"\n",
    "print(s.capitalize())"
   ]
  },
  {
   "cell_type": "code",
   "execution_count": 38,
   "id": "483cd73c",
   "metadata": {},
   "outputs": [
    {
     "name": "stdout",
     "output_type": "stream",
     "text": [
      "Loga Darshana\n"
     ]
    }
   ],
   "source": [
    "s=\"loga darshana\"\n",
    "print(s.title())"
   ]
  },
  {
   "cell_type": "code",
   "execution_count": 40,
   "id": "60ef524b",
   "metadata": {},
   "outputs": [
    {
     "name": "stdout",
     "output_type": "stream",
     "text": [
      "4\n"
     ]
    }
   ],
   "source": [
    "s=\"loga darshana\"\n",
    "print(s.count(\"a\"))"
   ]
  },
  {
   "cell_type": "code",
   "execution_count": 41,
   "id": "bb8e9dec",
   "metadata": {},
   "outputs": [
    {
     "name": "stdout",
     "output_type": "stream",
     "text": [
      "True\n"
     ]
    }
   ],
   "source": [
    "s=\"loga darshana\"\n",
    "print(s.endswith(\"na\"))"
   ]
  },
  {
   "cell_type": "code",
   "execution_count": 42,
   "id": "4cd9d4b9",
   "metadata": {},
   "outputs": [
    {
     "name": "stdout",
     "output_type": "stream",
     "text": [
      "False\n"
     ]
    }
   ],
   "source": [
    "s=\"loga darshana\"\n",
    "print(s.endswith(\"ga\"))"
   ]
  },
  {
   "cell_type": "code",
   "execution_count": 43,
   "id": "595c7249",
   "metadata": {},
   "outputs": [
    {
     "name": "stdout",
     "output_type": "stream",
     "text": [
      "3\n"
     ]
    }
   ],
   "source": [
    "s=\"loga darshana\"\n",
    "print(s.find(\"a\"))"
   ]
  },
  {
   "cell_type": "code",
   "execution_count": 47,
   "id": "7fd93d15",
   "metadata": {},
   "outputs": [
    {
     "name": "stdout",
     "output_type": "stream",
     "text": [
      "6\n"
     ]
    }
   ],
   "source": [
    "s=\"loga darshana\"\n",
    "print(s.find(\"a\",4))"
   ]
  },
  {
   "cell_type": "code",
   "execution_count": 45,
   "id": "80dd49e8",
   "metadata": {},
   "outputs": [
    {
     "name": "stdout",
     "output_type": "stream",
     "text": [
      "log0 d0rsh0n0\n"
     ]
    }
   ],
   "source": [
    "s=\"loga darshana\"\n",
    "print(s.replace(\"a\",'0'))"
   ]
  },
  {
   "cell_type": "code",
   "execution_count": 48,
   "id": "b6113472",
   "metadata": {},
   "outputs": [
    {
     "name": "stdout",
     "output_type": "stream",
     "text": [
      "IS UPPER :  True\n"
     ]
    }
   ],
   "source": [
    "a=\"LOGA\"\n",
    "print(\"IS UPPER : \",a.isupper())"
   ]
  },
  {
   "cell_type": "code",
   "execution_count": 50,
   "id": "967dae7a",
   "metadata": {},
   "outputs": [
    {
     "name": "stdout",
     "output_type": "stream",
     "text": [
      "IS Alpha Numeric :  True\n",
      "IS Alpha :  False\n"
     ]
    }
   ],
   "source": [
    "a=\"loga1234\"\n",
    "print(\"IS Alpha Numeric : \",a.isalnum())\n",
    "print(\"IS Alpha : \",a.isalpha())"
   ]
  },
  {
   "cell_type": "code",
   "execution_count": 51,
   "id": "c24241bc",
   "metadata": {},
   "outputs": [
    {
     "name": "stdout",
     "output_type": "stream",
     "text": [
      "he\n",
      "is\n",
      "good\n",
      "['he', 'is', 'good']\n",
      "['he\\n', 'is\\n', 'good']\n"
     ]
    }
   ],
   "source": [
    "s=\"he\\nis\\ngood\"\n",
    "print(s)\n",
    "print(s.splitlines())\n",
    "print(s.splitlines(True))"
   ]
  },
  {
   "cell_type": "code",
   "execution_count": 52,
   "id": "2b8eb26e",
   "metadata": {},
   "outputs": [
    {
     "name": "stdout",
     "output_type": "stream",
     "text": [
      "['Loga', 'is', 'awesome']\n"
     ]
    }
   ],
   "source": [
    "a=\"Loga is awesome\"\n",
    "print(a.split(\" \"))"
   ]
  },
  {
   "cell_type": "code",
   "execution_count": 55,
   "id": "2ff6f7e0",
   "metadata": {},
   "outputs": [
    {
     "name": "stdout",
     "output_type": "stream",
     "text": [
      "10\n",
      "4\n",
      "7\n",
      "7\n"
     ]
    }
   ],
   "source": [
    "s=\"   loga   \"\n",
    "print(len(s))\n",
    "print(len(s.strip()))\n",
    "print(len(s.lstrip()))\n",
    "print(len(s.rstrip()))"
   ]
  },
  {
   "cell_type": "code",
   "execution_count": 57,
   "id": "70bbcd52",
   "metadata": {},
   "outputs": [
    {
     "name": "stdout",
     "output_type": "stream",
     "text": [
      "('25', '-', '11-2021')\n"
     ]
    }
   ],
   "source": [
    "s='25-11-2021'\n",
    "print(s.partition('-'))"
   ]
  },
  {
   "cell_type": "code",
   "execution_count": 62,
   "id": "7feadb49",
   "metadata": {},
   "outputs": [
    {
     "name": "stdout",
     "output_type": "stream",
     "text": [
      "sample\n",
      "sa\n",
      "ample\n",
      "e\n",
      "l\n",
      "elpmas\n"
     ]
    }
   ],
   "source": [
    "#string manipulation\n",
    "#slicing\n",
    "'''\n",
    "s   a   m   p   l   e\n",
    "0   1   2   3   4   5\n",
    "-6 -5  -4  -3  -2  -1\n",
    "'''\n",
    "\n",
    "s=\"sample\"\n",
    "print(s)\n",
    "print(s[0:2])\n",
    "print(s[1:])\n",
    "print(s[-1])\n",
    "print(s[-2:-1])\n",
    "print(s[::-1])"
   ]
  },
  {
   "cell_type": "code",
   "execution_count": 65,
   "id": "30f43247",
   "metadata": {},
   "outputs": [
    {
     "name": "stdout",
     "output_type": "stream",
     "text": [
      "133\n",
      "113\n",
      "1230\n",
      "12.3\n",
      "12\n",
      "3\n",
      "8\n"
     ]
    }
   ],
   "source": [
    "#Arthimetic operations\n",
    "\n",
    "a=123\n",
    "b=10\n",
    "print(a+b)\n",
    "print(a-b)\n",
    "print(a*b)\n",
    "print(a/b)\n",
    "print(a//b)\n",
    "print(a%b)\n",
    "print(2**3)"
   ]
  },
  {
   "cell_type": "code",
   "execution_count": 70,
   "id": "954b1834",
   "metadata": {},
   "outputs": [
    {
     "name": "stdout",
     "output_type": "stream",
     "text": [
      "125\n",
      "130\n",
      "120\n",
      "1200\n",
      "120.0\n",
      "12.0\n",
      "2.0\n"
     ]
    }
   ],
   "source": [
    "#assignment operators in python\n",
    "\n",
    "a=125\n",
    "print(a)\n",
    "a += 5 #a=a+5\n",
    "print(a)\n",
    "a -= 10 #a=a-10\n",
    "print(a)\n",
    "a *= 10 #a=a*10\n",
    "print(a)\n",
    "a /= 10 #a=a/10\n",
    "print(a)\n",
    "a //= 10 #a=a//10\n",
    "print(a)\n",
    "a %= 10 #a=a%10\n",
    "print(a)\n"
   ]
  },
  {
   "cell_type": "code",
   "execution_count": 71,
   "id": "3dc42d88",
   "metadata": {},
   "outputs": [
    {
     "name": "stdout",
     "output_type": "stream",
     "text": [
      "False\n",
      "True\n",
      "False\n",
      "True\n",
      "False\n",
      "True\n"
     ]
    }
   ],
   "source": [
    "#comparision operators in python\n",
    "\n",
    "a=10\n",
    "b=20\n",
    "print(a==b)\n",
    "print(a!=b)\n",
    "print(a>b)\n",
    "print(a<b)\n",
    "print(a>=b)\n",
    "print(a<=b)\n"
   ]
  },
  {
   "cell_type": "code",
   "execution_count": 72,
   "id": "e63d45bc",
   "metadata": {},
   "outputs": [
    {
     "name": "stdout",
     "output_type": "stream",
     "text": [
      "True\n"
     ]
    }
   ],
   "source": [
    "#logical oprators in python\n",
    "\n",
    "10-20\n",
    "\n",
    "a=10\n",
    "print(a>=10 and a<=20)"
   ]
  },
  {
   "cell_type": "code",
   "execution_count": 73,
   "id": "d0a27b81",
   "metadata": {},
   "outputs": [
    {
     "name": "stdout",
     "output_type": "stream",
     "text": [
      "False\n",
      "True\n",
      "True\n"
     ]
    }
   ],
   "source": [
    "a=25\n",
    "print(a>=10 and a<=20)\n",
    "print(a>=10 or a<=20)\n",
    "print(not(a>=10 and a<=20))"
   ]
  },
  {
   "cell_type": "code",
   "execution_count": 76,
   "id": "2dcea8d9",
   "metadata": {},
   "outputs": [
    {
     "name": "stdout",
     "output_type": "stream",
     "text": [
      "10\n",
      "11\n",
      "1\n",
      "-11\n"
     ]
    }
   ],
   "source": [
    "#Bitwise operator\n",
    "\n",
    "a=10\n",
    "b=11\n",
    "print(a&b) #AND\n",
    "print(a|b) #OR\n",
    "print(a^b) #XOR\n",
    "print(~a)  #NOT"
   ]
  },
  {
   "cell_type": "code",
   "execution_count": 1,
   "id": "e21776eb",
   "metadata": {},
   "outputs": [
    {
     "name": "stdout",
     "output_type": "stream",
     "text": [
      "Enter the Number: 22\n",
      "22 Is Even number\n"
     ]
    }
   ],
   "source": [
    "#IF - ELSE statement\n",
    "\n",
    "'''\n",
    "write a program to check the given number is even\n",
    "'''\n",
    "n=int(input(\"Enter the Number: \"))\n",
    "if n%2==0:\n",
    "    print(n,\"Is Even number\")"
   ]
  },
  {
   "cell_type": "code",
   "execution_count": 1,
   "id": "9b390ada",
   "metadata": {},
   "outputs": [
    {
     "name": "stdout",
     "output_type": "stream",
     "text": [
      "Enter the Number: 15\n",
      "15 is odd number\n"
     ]
    }
   ],
   "source": [
    "n=int(input(\"Enter the Number: \"))\n",
    "if n%2==0:\n",
    "    print(n,\"is Even number\")\n",
    "else:\n",
    "    print(n,\"is odd number\")"
   ]
  },
  {
   "cell_type": "code",
   "execution_count": 2,
   "id": "21c6b27c",
   "metadata": {},
   "outputs": [
    {
     "name": "stdout",
     "output_type": "stream",
     "text": [
      "Enter your name: Loga\n",
      "Enter your age: 22\n",
      "Loga age is 22 eligible for vote.\n"
     ]
    }
   ],
   "source": [
    "'''\n",
    "write a program to check voter eligiblity with his/her name and age\n",
    "'''\n",
    "name=input(\"Enter your name: \")\n",
    "age=int(input(\"Enter your age: \"))\n",
    "if age>=18:\n",
    "    print(name,\"age is\",age,\"eligible for vote.\")\n",
    "else:\n",
    "    print(name,\"age is\",age,\"not eligible for vote.\")"
   ]
  },
  {
   "cell_type": "code",
   "execution_count": 3,
   "id": "76f93e16",
   "metadata": {},
   "outputs": [
    {
     "name": "stdout",
     "output_type": "stream",
     "text": [
      "Enter number of days: 5\n",
      "fine ammount:  2.5\n"
     ]
    }
   ],
   "source": [
    "#elif statement\n",
    "\n",
    "'''\n",
    "days   fine\n",
    "0      no fine\n",
    "1-5    0.5\n",
    "5-10    1\n",
    "10-30   5\n",
    ">30    Membership cancel\n",
    "'''\n",
    "days=int(input(\"Enter number of days: \"))\n",
    "if (days==0):\n",
    "    print(\"no fine\")\n",
    "elif(days>=1 and days<=5):\n",
    "    print(\"fine ammount: \",days*0.5)\n",
    "elif(days>=5 and days<=10):\n",
    "    print(\"fine ammount: \",days*1)\n",
    "elif(days>=10 and days<=30):\n",
    "    print(\"fine ammount: \",days*5)\n",
    "else:\n",
    "    print(\"Membership Cancel\")\n",
    "    "
   ]
  },
  {
   "cell_type": "code",
   "execution_count": 7,
   "id": "b3b2f6a7",
   "metadata": {},
   "outputs": [
    {
     "name": "stdout",
     "output_type": "stream",
     "text": [
      "Enter mark 1: 50\n",
      "Enter mark 2: 35\n",
      "Enter mark 3: 62\n",
      "Total:  147\n",
      "Average:  49.0\n",
      "Result: Pass\n",
      "Grade: D\n"
     ]
    }
   ],
   "source": [
    "#Nested if\n",
    "\n",
    "'''\n",
    "3 marks input\n",
    "total\n",
    "average \n",
    "result\n",
    "if pass grade\n",
    "90-100 A\n",
    "80-89  B\n",
    "70-79  C\n",
    "ELSE   D\n",
    "'''\n",
    "m1=int(input(\"Enter mark 1: \"))\n",
    "m2=int(input(\"Enter mark 2: \"))\n",
    "m3=int(input(\"Enter mark 3: \"))\n",
    "total=m1+m2+m3\n",
    "average=Total/3.0\n",
    "print(\"Total: \",total)\n",
    "print(\"Average: \",average)\n",
    "if m1>=35 and m2>=35 and m3>=35:\n",
    "    print(\"Result: Pass\")\n",
    "    if average>=90 and average<=100:\n",
    "        print(\"Grade: A\")\n",
    "    elif average>=89 and average<=80:\n",
    "        print(\"Grade: B\")\n",
    "    elif average>=79 and average<=70:\n",
    "        print(\"Grade: C\")\n",
    "    else:\n",
    "        print(\"Grade: D\")\n",
    "else:\n",
    "    print(\"Result: Fail\")\n",
    "    print(\"Grade: No grade\")\n"
   ]
  },
  {
   "cell_type": "code",
   "execution_count": 8,
   "id": "24bd11e5",
   "metadata": {},
   "outputs": [
    {
     "name": "stdout",
     "output_type": "stream",
     "text": [
      "1\n",
      "2\n",
      "3\n",
      "4\n",
      "5\n",
      "6\n",
      "7\n",
      "8\n",
      "9\n",
      "10\n"
     ]
    }
   ],
   "source": [
    "#while loop\n",
    "\n",
    "i=1\n",
    "while i<=10:\n",
    "    print(i)\n",
    "    i+=1"
   ]
  },
  {
   "cell_type": "code",
   "execution_count": 9,
   "id": "11c4c817",
   "metadata": {},
   "outputs": [
    {
     "name": "stdout",
     "output_type": "stream",
     "text": [
      "2\n",
      "4\n",
      "6\n",
      "8\n",
      "10\n",
      "12\n",
      "14\n",
      "16\n",
      "18\n",
      "20\n"
     ]
    }
   ],
   "source": [
    "n=20\n",
    "i=2\n",
    "while i<=20:\n",
    "    print(i)\n",
    "    i+=2"
   ]
  },
  {
   "cell_type": "code",
   "execution_count": 1,
   "id": "8531af78",
   "metadata": {},
   "outputs": [
    {
     "name": "stdout",
     "output_type": "stream",
     "text": [
      "1\n",
      "3\n",
      "5\n",
      "7\n",
      "9\n",
      "11\n",
      "13\n",
      "15\n",
      "17\n",
      "19\n"
     ]
    }
   ],
   "source": [
    "#continue statement\n",
    "\n",
    "i=1\n",
    "while i<=20:\n",
    "    if i%2==0:\n",
    "        i=i+1\n",
    "        continue\n",
    "    print(i)\n",
    "    i+=1"
   ]
  },
  {
   "cell_type": "code",
   "execution_count": 6,
   "id": "d75d5d18",
   "metadata": {},
   "outputs": [
    {
     "name": "stdout",
     "output_type": "stream",
     "text": [
      "[0, 1, 2, 3, 4]\n",
      "[2, 3, 4]\n",
      "[0, 2, 4, 6, 8, 10, 12, 14, 16, 18]\n",
      "[1, 3, 5, 7, 9, 11, 13, 15, 17, 19]\n"
     ]
    }
   ],
   "source": [
    "#range\n",
    "\n",
    "'''\n",
    "1-5 => 1,2,3,4,5\n",
    "0-2 => 2,4 +2\n",
    "range(5) =>0,1,2,3,4\n",
    "range(2,5) =>\n",
    "'''\n",
    "print(list(range(5)))\n",
    "print(list(range(2,5))) #n-1\n",
    "print(list(range(0,20,2)))\n",
    "print(list(range(1,20,2)))"
   ]
  },
  {
   "cell_type": "code",
   "execution_count": 8,
   "id": "c0f78e9e",
   "metadata": {},
   "outputs": [
    {
     "name": "stdout",
     "output_type": "stream",
     "text": [
      "0\n",
      "1\n",
      "2\n",
      "3\n",
      "4\n",
      "5\n",
      "6\n",
      "7\n",
      "8\n",
      "9\n",
      "10\n",
      "11\n",
      "12\n",
      "13\n",
      "14\n",
      "15\n",
      "16\n",
      "17\n",
      "18\n",
      "19\n",
      "20\n"
     ]
    }
   ],
   "source": [
    "#for loop\n",
    "\n",
    "for i in range(21):\n",
    "    print(i)"
   ]
  },
  {
   "cell_type": "code",
   "execution_count": 9,
   "id": "9fdf6f76",
   "metadata": {},
   "outputs": [
    {
     "name": "stdout",
     "output_type": "stream",
     "text": [
      "1\n",
      "2\n",
      "3\n",
      "4\n",
      "5\n",
      "6\n",
      "7\n",
      "8\n",
      "9\n",
      "10\n",
      "11\n",
      "12\n",
      "13\n",
      "14\n",
      "15\n",
      "16\n",
      "17\n",
      "18\n",
      "19\n",
      "20\n"
     ]
    }
   ],
   "source": [
    "for i in range(1,21):\n",
    "    print(i)"
   ]
  },
  {
   "cell_type": "code",
   "execution_count": 10,
   "id": "4920b14e",
   "metadata": {},
   "outputs": [
    {
     "name": "stdout",
     "output_type": "stream",
     "text": [
      "Enter a number: 10\n",
      "Enter a number: 10\n",
      "20\n",
      "Enter a number: 20\n",
      "Enter a number: 20\n",
      "40\n",
      "Enter a number: 30\n",
      "Enter a number: 30\n",
      "60\n",
      "Enter a number: 40\n",
      "Enter a number: 40\n",
      "80\n",
      "Enter a number: 50\n",
      "Enter a number: 50\n",
      "100\n"
     ]
    }
   ],
   "source": [
    "for i in range(5):\n",
    "    a=int(input(\"Enter a number: \"))\n",
    "    b=int(input(\"Enter a number: \"))\n",
    "    print(a+b)"
   ]
  },
  {
   "cell_type": "code",
   "execution_count": 14,
   "id": "55c1ceab",
   "metadata": {},
   "outputs": [
    {
     "name": "stdout",
     "output_type": "stream",
     "text": [
      "\n",
      "*\n",
      "**\n",
      "***\n",
      "****\n"
     ]
    }
   ],
   "source": [
    "#nested for loop\n",
    "\n",
    "'''\n",
    "*\n",
    "**\n",
    "***\n",
    "****\n",
    "*****\n",
    "'''\n",
    "for i in range(5):\n",
    "    for j in range(i):\n",
    "        print(\"*\",end=\"\")\n",
    "    print(\"\")"
   ]
  },
  {
   "cell_type": "code",
   "execution_count": 15,
   "id": "9095d9d3",
   "metadata": {},
   "outputs": [
    {
     "name": "stdout",
     "output_type": "stream",
     "text": [
      "\n",
      "0\n",
      "\n",
      "0\n",
      "1\n",
      "\n",
      "0\n",
      "1\n",
      "2\n",
      "\n",
      "0\n",
      "1\n",
      "2\n",
      "3\n",
      "\n"
     ]
    }
   ],
   "source": [
    "for i in range(5):\n",
    "    for j in range(i):\n",
    "        print(j)\n",
    "    print(\"\")"
   ]
  },
  {
   "cell_type": "code",
   "execution_count": 16,
   "id": "4925aa04",
   "metadata": {},
   "outputs": [
    {
     "name": "stdout",
     "output_type": "stream",
     "text": [
      "5\n",
      "4\n",
      "3\n",
      "2\n",
      "1\n"
     ]
    }
   ],
   "source": [
    "'''\n",
    "*****\n",
    "****\n",
    "***\n",
    "**\n",
    "*\n",
    "'''\n",
    "for i in range(5,0,-1):\n",
    "    print(i)\n",
    "    "
   ]
  },
  {
   "cell_type": "code",
   "execution_count": 17,
   "id": "ad2d99b9",
   "metadata": {},
   "outputs": [
    {
     "name": "stdout",
     "output_type": "stream",
     "text": [
      "*****\n",
      "****\n",
      "***\n",
      "**\n",
      "*\n"
     ]
    }
   ],
   "source": [
    "for i in range(5,0,-1):\n",
    "    for j in range(i):\n",
    "        print(\"*\",end=\"\")\n",
    "    print(\"\")"
   ]
  },
  {
   "cell_type": "code",
   "execution_count": 20,
   "id": "0a001def",
   "metadata": {},
   "outputs": [
    {
     "name": "stdout",
     "output_type": "stream",
     "text": [
      "65\n",
      "A\n",
      "66\n",
      "B\n",
      "67\n",
      "C\n",
      "68\n",
      "D\n",
      "69\n",
      "E\n"
     ]
    }
   ],
   "source": [
    "'''\n",
    "ABCDE\n",
    "ABCDE\n",
    "ABCDE\n",
    "ABCDE\n",
    "ABCDE\n",
    "\n",
    "A-Z => 65-90\n",
    "a-z => 97-122\n",
    "'''\n",
    "for i in range(65,70,1):\n",
    "    print(i)"
   ]
  },
  {
   "cell_type": "code",
   "execution_count": 21,
   "id": "41eac803",
   "metadata": {},
   "outputs": [
    {
     "name": "stdout",
     "output_type": "stream",
     "text": [
      "A\n",
      "B\n",
      "C\n",
      "D\n",
      "E\n"
     ]
    }
   ],
   "source": [
    "for i in range(65,70,1):\n",
    "    print(chr(i))"
   ]
  },
  {
   "cell_type": "code",
   "execution_count": 26,
   "id": "0912692c",
   "metadata": {},
   "outputs": [
    {
     "name": "stdout",
     "output_type": "stream",
     "text": [
      "ABCDE\n",
      "ABCDE\n",
      "ABCDE\n",
      "ABCDE\n",
      "ABCDE\n"
     ]
    }
   ],
   "source": [
    "'''\n",
    "ABCDE\n",
    "ABCDE\n",
    "ABCDE\n",
    "ABCDE\n",
    "ABCDE\n",
    "\n",
    "A-Z => 65-90\n",
    "a-z => 97-122\n",
    "'''\n",
    "for i in range(65,70,1):\n",
    "    for j in range(65,70,1):\n",
    "        print(chr(j),end=\"\")\n",
    "    print(\"\")"
   ]
  },
  {
   "cell_type": "code",
   "execution_count": 30,
   "id": "cde42736",
   "metadata": {},
   "outputs": [
    {
     "name": "stdout",
     "output_type": "stream",
     "text": [
      "1\n",
      "2\n",
      "3\n"
     ]
    }
   ],
   "source": [
    "#while else and for else\n",
    "\n",
    "i=1\n",
    "while i<=5:\n",
    "    if(i==4):\n",
    "        break\n",
    "    print(i)\n",
    "    i+=1\n",
    "else:\n",
    "    print(\"Loop completed\")"
   ]
  },
  {
   "cell_type": "code",
   "execution_count": 32,
   "id": "9342b32c",
   "metadata": {},
   "outputs": [
    {
     "name": "stdout",
     "output_type": "stream",
     "text": [
      "1\n",
      "2\n",
      "3\n",
      "4\n",
      "5\n",
      "6\n",
      "7\n",
      "8\n",
      "9\n",
      "10\n",
      "11\n",
      "12\n",
      "13\n",
      "14\n",
      "15\n",
      "16\n",
      "17\n",
      "18\n",
      "19\n",
      "20\n",
      "For loop completed\n"
     ]
    }
   ],
   "source": [
    "for i in range(1,21):\n",
    "    print(i)\n",
    "else:\n",
    "    print(\"For loop completed\")\n"
   ]
  },
  {
   "cell_type": "code",
   "execution_count": 33,
   "id": "d12b47d8",
   "metadata": {},
   "outputs": [
    {
     "name": "stdout",
     "output_type": "stream",
     "text": [
      "1\n",
      "2\n",
      "3\n",
      "4\n"
     ]
    }
   ],
   "source": [
    "for i in range(1,21):\n",
    "    if(i==5):\n",
    "        break\n",
    "    print(i)\n",
    "else:\n",
    "    print(\"For loop completed\")\n"
   ]
  },
  {
   "cell_type": "code",
   "execution_count": 35,
   "id": "17df08ae",
   "metadata": {},
   "outputs": [
    {
     "name": "stdout",
     "output_type": "stream",
     "text": [
      "[1, 2, 3, 4, 5]\n",
      "<class 'list'>\n",
      "[100, 2, 3, 4, 5]\n"
     ]
    }
   ],
   "source": [
    "#list \n",
    "\n",
    "'''\n",
    "a[5]\n",
    "a={1,2,3,4,5}\n",
    "a[0]\n",
    "'''\n",
    "\n",
    "a=[1,2,3,4,5]\n",
    "print(a)\n",
    "print(type(a))"
   ]
  },
  {
   "cell_type": "code",
   "execution_count": 42,
   "id": "db65b825",
   "metadata": {},
   "outputs": [
    {
     "name": "stdout",
     "output_type": "stream",
     "text": [
      "[100, 2, 3, 4, 5]\n",
      "Slicing\n",
      "2\n",
      "5\n",
      "[100, 2, 3]\n",
      "[3, 4, 5]\n",
      "[100, 2, 3]\n"
     ]
    }
   ],
   "source": [
    "'''\n",
    "a[5]\n",
    "a={1,2,3,4,5}\n",
    "a[0]\n",
    "'''\n",
    "a=[1,2,3,4,5]\n",
    "a[0]=100\n",
    "print(a)\n",
    "print(\"Slicing\")\n",
    "print(a[1])\n",
    "print(a[-1])\n",
    "print(a[0:3])\n",
    "print(a[2:])\n",
    "print(a[:3])"
   ]
  },
  {
   "cell_type": "code",
   "execution_count": 45,
   "id": "baf3b5af",
   "metadata": {},
   "outputs": [
    {
     "name": "stdout",
     "output_type": "stream",
     "text": [
      "(1, True, 'Ram', 2.5)\n",
      "<class 'tuple'>\n",
      "1  type is <class 'int'>\n",
      "True  type is <class 'bool'>\n",
      "Ram  type is <class 'str'>\n",
      "2.5  type is <class 'float'>\n"
     ]
    }
   ],
   "source": [
    "a=(1,True,'Ram',2.5)\n",
    "print(a)\n",
    "print(type(a))\n",
    "print(a[0],\" type is\",type(a[0]))\n",
    "print(a[1],\" type is\",type(a[1]))\n",
    "print(a[2],\" type is\",type(a[2]))\n",
    "print(a[3],\" type is\",type(a[3]))"
   ]
  },
  {
   "cell_type": "code",
   "execution_count": 47,
   "id": "8ddb5fb2",
   "metadata": {},
   "outputs": [
    {
     "name": "stdout",
     "output_type": "stream",
     "text": [
      "(1, True, 'Ram', 2.5, [1, 2, 3, 4, 5])\n",
      "<class 'tuple'>\n",
      "1  type is <class 'int'>\n",
      "True  type is <class 'bool'>\n",
      "Ram  type is <class 'str'>\n",
      "2.5  type is <class 'float'>\n",
      "[1, 2, 3, 4, 5]  type is <class 'list'>\n"
     ]
    }
   ],
   "source": [
    "a=(1,True,'Ram',2.5,[1,2,3,4,5])\n",
    "print(a)\n",
    "print(type(a))\n",
    "print(a[0],\" type is\",type(a[0]))\n",
    "print(a[1],\" type is\",type(a[1]))\n",
    "print(a[2],\" type is\",type(a[2]))\n",
    "print(a[3],\" type is\",type(a[3]))\n",
    "print(a[4],\" type is\",type(a[4]))"
   ]
  },
  {
   "cell_type": "code",
   "execution_count": 48,
   "id": "5c16d7af",
   "metadata": {},
   "outputs": [
    {
     "name": "stdout",
     "output_type": "stream",
     "text": [
      "[10, 25, 35, 45]\n",
      "[]\n"
     ]
    }
   ],
   "source": [
    "#list functions\n",
    "\n",
    "a = [10,25,35,45]\n",
    "print(a)\n",
    "a.clear()\n",
    "print(a)\n"
   ]
  },
  {
   "cell_type": "code",
   "execution_count": 51,
   "id": "fb72195c",
   "metadata": {},
   "outputs": [
    {
     "name": "stdout",
     "output_type": "stream",
     "text": [
      "[10, 25, 35, 45]\n"
     ]
    }
   ],
   "source": [
    "a = [10,25,35,45]\n",
    "b=a.copy()\n",
    "print(b)"
   ]
  },
  {
   "cell_type": "code",
   "execution_count": 55,
   "id": "154f225f",
   "metadata": {},
   "outputs": [
    {
     "name": "stdout",
     "output_type": "stream",
     "text": [
      "4\n",
      "1\n",
      "8\n",
      "25\n",
      "3\n"
     ]
    }
   ],
   "source": [
    "a= [10,25,4,25,3,25,6,25]\n",
    "print(a.count(25))\n",
    "print(a.index(25))\n",
    "print(len(a))\n",
    "print(max(a))\n",
    "print(min(a))"
   ]
  },
  {
   "cell_type": "code",
   "execution_count": 56,
   "id": "d265ba76",
   "metadata": {},
   "outputs": [
    {
     "name": "stdout",
     "output_type": "stream",
     "text": [
      "[10, 25, 4, 25, 3, 25, 6, 25]\n",
      "[25, 4, 25, 3, 25, 6, 25]\n"
     ]
    }
   ],
   "source": [
    "a= [10,25,4,25,3,25,6,25]\n",
    "print(a)\n",
    "a.pop(0) #emove using index value\n",
    "print(a)"
   ]
  },
  {
   "cell_type": "code",
   "execution_count": 57,
   "id": "cc2dc420",
   "metadata": {},
   "outputs": [
    {
     "name": "stdout",
     "output_type": "stream",
     "text": [
      "[10, 4, 25, 3, 25, 6, 25]\n"
     ]
    }
   ],
   "source": [
    "a= [10,25,4,25,3,25,6,25]\n",
    "a.remove(25)\n",
    "print(a)"
   ]
  },
  {
   "cell_type": "code",
   "execution_count": 63,
   "id": "4ddfd9f5",
   "metadata": {},
   "outputs": [
    {
     "name": "stdout",
     "output_type": "stream",
     "text": [
      "['Ram']\n",
      "['Ram', 'Sam', 'Raj']\n",
      "['Ram', 'Sam', 'Raj', 'sara', 'Anitha']\n",
      "['Suriya', 'Ram', 'Sam', 'Raj', 'sara', 'Anitha']\n"
     ]
    }
   ],
   "source": [
    "names=[\"Ram\"]\n",
    "print(names)\n",
    "names.append(\"Sam\")\n",
    "names.append(\"Raj\")\n",
    "print(names)\n",
    "name2=[\"sara\",\"Anitha\"]\n",
    "names.extend(name2)\n",
    "print(names)\n",
    "names.insert(0,\"Suriya\")\n",
    "print(names)"
   ]
  },
  {
   "cell_type": "code",
   "execution_count": 67,
   "id": "e8b1044d",
   "metadata": {},
   "outputs": [
    {
     "name": "stdout",
     "output_type": "stream",
     "text": [
      "[10, 25, 4, 3, 6]\n",
      "[3, 4, 6, 10, 25]\n",
      "[25, 10, 6, 4, 3]\n"
     ]
    }
   ],
   "source": [
    "a= [10,25,4,3,6]\n",
    "print(a)\n",
    "a.sort()\n",
    "print(a)\n",
    "a.sort(reverse=True)\n",
    "print(a)"
   ]
  },
  {
   "cell_type": "code",
   "execution_count": 76,
   "id": "ddbd2e56",
   "metadata": {},
   "outputs": [
    {
     "name": "stdout",
     "output_type": "stream",
     "text": [
      "<class 'tuple'>\n",
      "1\n",
      "2.5\n",
      "Ram\n",
      "(True, 'Ram')\n",
      "[1, 2.5, True, 'Ram']\n",
      "[1, 2.5, True, 'Ram', 'Raja']\n"
     ]
    }
   ],
   "source": [
    "#tuples\n",
    "\n",
    "a=(1,2.5,True,\"Ram\")\n",
    "print(type(a))\n",
    "print(a[0])\n",
    "print(a[1])\n",
    "print(a[-1])\n",
    "print(a[2:])\n",
    "b=list(a)\n",
    "print(b)\n",
    "b.append(\"Raja\")\n",
    "print(b)"
   ]
  },
  {
   "cell_type": "code",
   "execution_count": 81,
   "id": "0562fb10",
   "metadata": {},
   "outputs": [
    {
     "name": "stdout",
     "output_type": "stream",
     "text": [
      "1\n",
      "2.5\n",
      "True\n",
      "Ram\n",
      "Not found\n"
     ]
    }
   ],
   "source": [
    "a=(1,2.5,True,\"Ram\")\n",
    "for i in a:\n",
    "    print(i)\n",
    "if \"Raja\" in a :\n",
    "    print(\"Raja is found\")\n",
    "else:\n",
    "    print(\"Not found\")"
   ]
  },
  {
   "cell_type": "code",
   "execution_count": 83,
   "id": "b9a15a0c",
   "metadata": {},
   "outputs": [
    {
     "name": "stdout",
     "output_type": "stream",
     "text": [
      "('loga', 'loga', 'loga', 'loga', 'loga', 'loga', 'loga', 'loga', 'loga', 'loga')\n"
     ]
    }
   ],
   "source": [
    "x=('loga',)*10\n",
    "print(x)"
   ]
  },
  {
   "cell_type": "code",
   "execution_count": 9,
   "id": "ee84419d",
   "metadata": {},
   "outputs": [
    {
     "name": "stdout",
     "output_type": "stream",
     "text": [
      "<class 'set'>\n",
      "Ram\n",
      "Ravi\n",
      "Sam\n",
      "{'Ram', 'Ravi', 'Sara', 'Sam'}\n",
      "{'kanda', 'krishna', 'loga', 'Ram', 'Ravi', 'Sara', 'Sam'}\n",
      "{'kanda', 'krishna', 'Ram', 'Ravi', 'Sara', 'Sam'}\n"
     ]
    }
   ],
   "source": [
    "#set\n",
    "\n",
    "names={\"Ram\",\"Sam\",\"Ravi\"}\n",
    "print(type(names))\n",
    "\n",
    "#assess value using for loop\n",
    "for name in names:\n",
    "    print(name)\n",
    "    \n",
    "#ADDING NEW NAMES\n",
    "names.add(\"Sara\")\n",
    "print(names)\n",
    "\n",
    "#Updating new data\n",
    "a={\"loga\",\"kanda\",\"krishna\"}\n",
    "names.update(a)\n",
    "print(names)\n",
    "names.discard(\"loga\")\n",
    "print(names)"
   ]
  },
  {
   "cell_type": "code",
   "execution_count": 4,
   "id": "f50c5515",
   "metadata": {},
   "outputs": [
    {
     "name": "stdout",
     "output_type": "stream",
     "text": [
      "{'name': 'Ram', 'age': 25, 'Is married': True}\n",
      "<class 'dict'>\n",
      "25\n",
      "dict_keys(['name', 'age', 'Is married'])\n",
      "dict_values(['Ram', 25, True])\n",
      "dict_items([('name', 'Ram'), ('age', 25), ('Is married', True)])\n"
     ]
    }
   ],
   "source": [
    "#Dictionary\n",
    "\n",
    "user={\n",
    "    \"name\":\"Ram\",\n",
    "    \"age\":25,\n",
    "    \"Is married\": True\n",
    "}\n",
    "print(user)\n",
    "print(type(user))\n",
    "print(user.get(\"age\"))\n",
    "print(user.keys())\n",
    "print(user.values())\n",
    "print(user.items())"
   ]
  },
  {
   "cell_type": "code",
   "execution_count": 9,
   "id": "d7d6f34c",
   "metadata": {},
   "outputs": [
    {
     "name": "stdout",
     "output_type": "stream",
     "text": [
      "name   Ram\n",
      "age   25\n",
      "Is married   True\n",
      "Ram\n",
      "25\n",
      "True\n"
     ]
    }
   ],
   "source": [
    "user={\n",
    "    \"name\":\"Ram\",\n",
    "    \"age\":25,\n",
    "    \"Is married\": True\n",
    "}\n",
    "\n",
    "for x in user:\n",
    "    print(x,\" \",user[x])\n",
    "    \n",
    "for x in user.values():\n",
    "    print(x)"
   ]
  },
  {
   "cell_type": "code",
   "execution_count": null,
   "id": "de954edf",
   "metadata": {},
   "outputs": [],
   "source": []
  }
 ],
 "metadata": {
  "kernelspec": {
   "display_name": "Python 3 (ipykernel)",
   "language": "python",
   "name": "python3"
  },
  "language_info": {
   "codemirror_mode": {
    "name": "ipython",
    "version": 3
   },
   "file_extension": ".py",
   "mimetype": "text/x-python",
   "name": "python",
   "nbconvert_exporter": "python",
   "pygments_lexer": "ipython3",
   "version": "3.8.12"
  }
 },
 "nbformat": 4,
 "nbformat_minor": 5
}
